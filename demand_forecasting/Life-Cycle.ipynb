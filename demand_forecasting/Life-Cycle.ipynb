{
 "cells": [
  {
   "cell_type": "code",
   "execution_count": 1,
   "metadata": {},
   "outputs": [],
   "source": [
    "import numpy as np\n",
    "import pandas as pd\n",
    "import seaborn as sns\n",
    "import matplotlib.pyplot as plt\n",
    "\n",
    "%matplotlib inline"
   ]
  },
  {
   "cell_type": "code",
   "execution_count": 2,
   "metadata": {},
   "outputs": [],
   "source": [
    "# import raw data\n",
    "def import_data(url):\n",
    "    df = pd.read_csv(url)\n",
    "    return df"
   ]
  },
  {
   "cell_type": "code",
   "execution_count": 3,
   "metadata": {},
   "outputs": [
    {
     "data": {
      "text/html": [
       "<div>\n",
       "<style scoped>\n",
       "    .dataframe tbody tr th:only-of-type {\n",
       "        vertical-align: middle;\n",
       "    }\n",
       "\n",
       "    .dataframe tbody tr th {\n",
       "        vertical-align: top;\n",
       "    }\n",
       "\n",
       "    .dataframe thead th {\n",
       "        text-align: right;\n",
       "    }\n",
       "</style>\n",
       "<table border=\"1\" class=\"dataframe\">\n",
       "  <thead>\n",
       "    <tr style=\"text-align: right;\">\n",
       "      <th></th>\n",
       "      <th>TariffDateTime</th>\n",
       "      <th>Tariff</th>\n",
       "    </tr>\n",
       "  </thead>\n",
       "  <tbody>\n",
       "    <tr>\n",
       "      <th>0</th>\n",
       "      <td>01/01/2013 00:00</td>\n",
       "      <td>Normal</td>\n",
       "    </tr>\n",
       "    <tr>\n",
       "      <th>1</th>\n",
       "      <td>01/01/2013 00:30</td>\n",
       "      <td>Normal</td>\n",
       "    </tr>\n",
       "    <tr>\n",
       "      <th>2</th>\n",
       "      <td>01/01/2013 01:00</td>\n",
       "      <td>Normal</td>\n",
       "    </tr>\n",
       "    <tr>\n",
       "      <th>3</th>\n",
       "      <td>01/01/2013 01:30</td>\n",
       "      <td>Normal</td>\n",
       "    </tr>\n",
       "    <tr>\n",
       "      <th>4</th>\n",
       "      <td>01/01/2013 02:00</td>\n",
       "      <td>Normal</td>\n",
       "    </tr>\n",
       "  </tbody>\n",
       "</table>\n",
       "</div>"
      ],
      "text/plain": [
       "     TariffDateTime  Tariff\n",
       "0  01/01/2013 00:00  Normal\n",
       "1  01/01/2013 00:30  Normal\n",
       "2  01/01/2013 01:00  Normal\n",
       "3  01/01/2013 01:30  Normal\n",
       "4  01/01/2013 02:00  Normal"
      ]
     },
     "execution_count": 3,
     "metadata": {},
     "output_type": "execute_result"
    }
   ],
   "source": [
    "# importing in tarriff dataset\n",
    "tarriff_location = \"tarriff_copy.csv\"\n",
    "tarriff_df = import_data(tarriff_location)\n",
    "\n",
    "tarriff_df.head()"
   ]
  },
  {
   "cell_type": "code",
   "execution_count": 4,
   "metadata": {},
   "outputs": [
    {
     "data": {
      "text/html": [
       "<div>\n",
       "<style scoped>\n",
       "    .dataframe tbody tr th:only-of-type {\n",
       "        vertical-align: middle;\n",
       "    }\n",
       "\n",
       "    .dataframe tbody tr th {\n",
       "        vertical-align: top;\n",
       "    }\n",
       "\n",
       "    .dataframe thead th {\n",
       "        text-align: right;\n",
       "    }\n",
       "</style>\n",
       "<table border=\"1\" class=\"dataframe\">\n",
       "  <thead>\n",
       "    <tr style=\"text-align: right;\">\n",
       "      <th></th>\n",
       "      <th>LCLid</th>\n",
       "      <th>stdorToU</th>\n",
       "      <th>DateTime</th>\n",
       "      <th>KWH/hh (per half hour)</th>\n",
       "      <th>Acorn</th>\n",
       "      <th>Acorn_grouped</th>\n",
       "    </tr>\n",
       "  </thead>\n",
       "  <tbody>\n",
       "    <tr>\n",
       "      <th>0</th>\n",
       "      <td>MAC003718</td>\n",
       "      <td>Std</td>\n",
       "      <td>17/10/2012 13:00</td>\n",
       "      <td>0.09</td>\n",
       "      <td>ACORN-A</td>\n",
       "      <td>Affluent</td>\n",
       "    </tr>\n",
       "    <tr>\n",
       "      <th>1</th>\n",
       "      <td>MAC003718</td>\n",
       "      <td>Std</td>\n",
       "      <td>17/10/2012 13:30</td>\n",
       "      <td>0.16</td>\n",
       "      <td>ACORN-A</td>\n",
       "      <td>Affluent</td>\n",
       "    </tr>\n",
       "    <tr>\n",
       "      <th>2</th>\n",
       "      <td>MAC003718</td>\n",
       "      <td>Std</td>\n",
       "      <td>17/10/2012 14:00</td>\n",
       "      <td>0.212</td>\n",
       "      <td>ACORN-A</td>\n",
       "      <td>Affluent</td>\n",
       "    </tr>\n",
       "    <tr>\n",
       "      <th>3</th>\n",
       "      <td>MAC003718</td>\n",
       "      <td>Std</td>\n",
       "      <td>17/10/2012 14:30</td>\n",
       "      <td>0.145</td>\n",
       "      <td>ACORN-A</td>\n",
       "      <td>Affluent</td>\n",
       "    </tr>\n",
       "    <tr>\n",
       "      <th>4</th>\n",
       "      <td>MAC003718</td>\n",
       "      <td>Std</td>\n",
       "      <td>17/10/2012 15:00</td>\n",
       "      <td>0.104</td>\n",
       "      <td>ACORN-A</td>\n",
       "      <td>Affluent</td>\n",
       "    </tr>\n",
       "  </tbody>\n",
       "</table>\n",
       "</div>"
      ],
      "text/plain": [
       "       LCLid stdorToU          DateTime KWH/hh (per half hour)     Acorn  \\\n",
       "0  MAC003718      Std  17/10/2012 13:00                    0.09  ACORN-A   \n",
       "1  MAC003718      Std  17/10/2012 13:30                    0.16  ACORN-A   \n",
       "2  MAC003718      Std  17/10/2012 14:00                   0.212  ACORN-A   \n",
       "3  MAC003718      Std  17/10/2012 14:30                   0.145  ACORN-A   \n",
       "4  MAC003718      Std  17/10/2012 15:00                   0.104  ACORN-A   \n",
       "\n",
       "  Acorn_grouped  \n",
       "0      Affluent  \n",
       "1      Affluent  \n",
       "2      Affluent  \n",
       "3      Affluent  \n",
       "4      Affluent  "
      ]
     },
     "execution_count": 4,
     "metadata": {},
     "output_type": "execute_result"
    }
   ],
   "source": [
    "# importing in user dataset (single user case here)\n",
    "sample_household_location = \"sample_household.csv\"\n",
    "sh_df = import_data(sample_household_location)\n",
    "\n",
    "sh_df.head()"
   ]
  },
  {
   "cell_type": "code",
   "execution_count": 5,
   "metadata": {},
   "outputs": [],
   "source": [
    "# make a column for the year only \n",
    "sh_df['year'] = pd.to_datetime(sh_df['DateTime']).dt.year"
   ]
  },
  {
   "cell_type": "code",
   "execution_count": 6,
   "metadata": {},
   "outputs": [
    {
     "data": {
      "text/html": [
       "<div>\n",
       "<style scoped>\n",
       "    .dataframe tbody tr th:only-of-type {\n",
       "        vertical-align: middle;\n",
       "    }\n",
       "\n",
       "    .dataframe tbody tr th {\n",
       "        vertical-align: top;\n",
       "    }\n",
       "\n",
       "    .dataframe thead th {\n",
       "        text-align: right;\n",
       "    }\n",
       "</style>\n",
       "<table border=\"1\" class=\"dataframe\">\n",
       "  <thead>\n",
       "    <tr style=\"text-align: right;\">\n",
       "      <th></th>\n",
       "      <th>LCLid</th>\n",
       "      <th>stdorToU</th>\n",
       "      <th>DateTime</th>\n",
       "      <th>KWH/hh (per half hour)</th>\n",
       "      <th>Acorn</th>\n",
       "      <th>Acorn_grouped</th>\n",
       "      <th>year</th>\n",
       "    </tr>\n",
       "  </thead>\n",
       "  <tbody>\n",
       "    <tr>\n",
       "      <th>3625</th>\n",
       "      <td>MAC003718</td>\n",
       "      <td>Std</td>\n",
       "      <td>01/01/2013 00:00</td>\n",
       "      <td>0.776</td>\n",
       "      <td>ACORN-A</td>\n",
       "      <td>Affluent</td>\n",
       "      <td>2013</td>\n",
       "    </tr>\n",
       "    <tr>\n",
       "      <th>3626</th>\n",
       "      <td>MAC003718</td>\n",
       "      <td>Std</td>\n",
       "      <td>01/01/2013 00:30</td>\n",
       "      <td>0.221</td>\n",
       "      <td>ACORN-A</td>\n",
       "      <td>Affluent</td>\n",
       "      <td>2013</td>\n",
       "    </tr>\n",
       "    <tr>\n",
       "      <th>3627</th>\n",
       "      <td>MAC003718</td>\n",
       "      <td>Std</td>\n",
       "      <td>01/01/2013 01:00</td>\n",
       "      <td>0.544</td>\n",
       "      <td>ACORN-A</td>\n",
       "      <td>Affluent</td>\n",
       "      <td>2013</td>\n",
       "    </tr>\n",
       "    <tr>\n",
       "      <th>3628</th>\n",
       "      <td>MAC003718</td>\n",
       "      <td>Std</td>\n",
       "      <td>01/01/2013 01:30</td>\n",
       "      <td>0.058</td>\n",
       "      <td>ACORN-A</td>\n",
       "      <td>Affluent</td>\n",
       "      <td>2013</td>\n",
       "    </tr>\n",
       "    <tr>\n",
       "      <th>3629</th>\n",
       "      <td>MAC003718</td>\n",
       "      <td>Std</td>\n",
       "      <td>01/01/2013 02:00</td>\n",
       "      <td>0.058</td>\n",
       "      <td>ACORN-A</td>\n",
       "      <td>Affluent</td>\n",
       "      <td>2013</td>\n",
       "    </tr>\n",
       "  </tbody>\n",
       "</table>\n",
       "</div>"
      ],
      "text/plain": [
       "          LCLid stdorToU          DateTime KWH/hh (per half hour)     Acorn  \\\n",
       "3625  MAC003718      Std  01/01/2013 00:00                   0.776  ACORN-A   \n",
       "3626  MAC003718      Std  01/01/2013 00:30                   0.221  ACORN-A   \n",
       "3627  MAC003718      Std  01/01/2013 01:00                   0.544  ACORN-A   \n",
       "3628  MAC003718      Std  01/01/2013 01:30                   0.058  ACORN-A   \n",
       "3629  MAC003718      Std  01/01/2013 02:00                   0.058  ACORN-A   \n",
       "\n",
       "     Acorn_grouped  year  \n",
       "3625      Affluent  2013  \n",
       "3626      Affluent  2013  \n",
       "3627      Affluent  2013  \n",
       "3628      Affluent  2013  \n",
       "3629      Affluent  2013  "
      ]
     },
     "execution_count": 6,
     "metadata": {},
     "output_type": "execute_result"
    }
   ],
   "source": [
    "# only get the 2013 data\n",
    "sh_df2013 = sh_df[sh_df['year'] == 2013]\n",
    "sh_df2013.head()"
   ]
  },
  {
   "cell_type": "code",
   "execution_count": 7,
   "metadata": {},
   "outputs": [
    {
     "data": {
      "text/html": [
       "<div>\n",
       "<style scoped>\n",
       "    .dataframe tbody tr th:only-of-type {\n",
       "        vertical-align: middle;\n",
       "    }\n",
       "\n",
       "    .dataframe tbody tr th {\n",
       "        vertical-align: top;\n",
       "    }\n",
       "\n",
       "    .dataframe thead th {\n",
       "        text-align: right;\n",
       "    }\n",
       "</style>\n",
       "<table border=\"1\" class=\"dataframe\">\n",
       "  <thead>\n",
       "    <tr style=\"text-align: right;\">\n",
       "      <th></th>\n",
       "      <th>LCLid</th>\n",
       "      <th>DateTime</th>\n",
       "      <th>KWH/hh (per half hour)</th>\n",
       "    </tr>\n",
       "  </thead>\n",
       "  <tbody>\n",
       "    <tr>\n",
       "      <th>3625</th>\n",
       "      <td>MAC003718</td>\n",
       "      <td>01/01/2013 00:00</td>\n",
       "      <td>0.776</td>\n",
       "    </tr>\n",
       "    <tr>\n",
       "      <th>3626</th>\n",
       "      <td>MAC003718</td>\n",
       "      <td>01/01/2013 00:30</td>\n",
       "      <td>0.221</td>\n",
       "    </tr>\n",
       "    <tr>\n",
       "      <th>3627</th>\n",
       "      <td>MAC003718</td>\n",
       "      <td>01/01/2013 01:00</td>\n",
       "      <td>0.544</td>\n",
       "    </tr>\n",
       "    <tr>\n",
       "      <th>3628</th>\n",
       "      <td>MAC003718</td>\n",
       "      <td>01/01/2013 01:30</td>\n",
       "      <td>0.058</td>\n",
       "    </tr>\n",
       "    <tr>\n",
       "      <th>3629</th>\n",
       "      <td>MAC003718</td>\n",
       "      <td>01/01/2013 02:00</td>\n",
       "      <td>0.058</td>\n",
       "    </tr>\n",
       "  </tbody>\n",
       "</table>\n",
       "</div>"
      ],
      "text/plain": [
       "          LCLid          DateTime KWH/hh (per half hour) \n",
       "3625  MAC003718  01/01/2013 00:00                   0.776\n",
       "3626  MAC003718  01/01/2013 00:30                   0.221\n",
       "3627  MAC003718  01/01/2013 01:00                   0.544\n",
       "3628  MAC003718  01/01/2013 01:30                   0.058\n",
       "3629  MAC003718  01/01/2013 02:00                   0.058"
      ]
     },
     "execution_count": 7,
     "metadata": {},
     "output_type": "execute_result"
    }
   ],
   "source": [
    "# take relevant columns\n",
    "sh_df2013 = sh_df2013.iloc[:, [0,2,3]]\n",
    "sh_df2013.head()"
   ]
  },
  {
   "cell_type": "code",
   "execution_count": 8,
   "metadata": {},
   "outputs": [
    {
     "data": {
      "text/html": [
       "<div>\n",
       "<style scoped>\n",
       "    .dataframe tbody tr th:only-of-type {\n",
       "        vertical-align: middle;\n",
       "    }\n",
       "\n",
       "    .dataframe tbody tr th {\n",
       "        vertical-align: top;\n",
       "    }\n",
       "\n",
       "    .dataframe thead th {\n",
       "        text-align: right;\n",
       "    }\n",
       "</style>\n",
       "<table border=\"1\" class=\"dataframe\">\n",
       "  <thead>\n",
       "    <tr style=\"text-align: right;\">\n",
       "      <th></th>\n",
       "      <th>LCLid</th>\n",
       "      <th>DateTime</th>\n",
       "      <th>KWH/hh</th>\n",
       "      <th>TarriffDateTime</th>\n",
       "      <th>Tarriff</th>\n",
       "    </tr>\n",
       "  </thead>\n",
       "  <tbody>\n",
       "    <tr>\n",
       "      <th>0</th>\n",
       "      <td>MAC003718</td>\n",
       "      <td>01/01/2013 00:00</td>\n",
       "      <td>0.776</td>\n",
       "      <td>01/01/2013 00:00</td>\n",
       "      <td>Normal</td>\n",
       "    </tr>\n",
       "    <tr>\n",
       "      <th>1</th>\n",
       "      <td>MAC003718</td>\n",
       "      <td>01/01/2013 00:30</td>\n",
       "      <td>0.221</td>\n",
       "      <td>01/01/2013 00:30</td>\n",
       "      <td>Normal</td>\n",
       "    </tr>\n",
       "    <tr>\n",
       "      <th>2</th>\n",
       "      <td>MAC003718</td>\n",
       "      <td>01/01/2013 01:00</td>\n",
       "      <td>0.544</td>\n",
       "      <td>01/01/2013 01:00</td>\n",
       "      <td>Normal</td>\n",
       "    </tr>\n",
       "    <tr>\n",
       "      <th>3</th>\n",
       "      <td>MAC003718</td>\n",
       "      <td>01/01/2013 01:30</td>\n",
       "      <td>0.058</td>\n",
       "      <td>01/01/2013 01:30</td>\n",
       "      <td>Normal</td>\n",
       "    </tr>\n",
       "    <tr>\n",
       "      <th>4</th>\n",
       "      <td>MAC003718</td>\n",
       "      <td>01/01/2013 02:00</td>\n",
       "      <td>0.058</td>\n",
       "      <td>01/01/2013 02:00</td>\n",
       "      <td>Normal</td>\n",
       "    </tr>\n",
       "  </tbody>\n",
       "</table>\n",
       "</div>"
      ],
      "text/plain": [
       "       LCLid          DateTime KWH/hh   TarriffDateTime Tarriff\n",
       "0  MAC003718  01/01/2013 00:00  0.776  01/01/2013 00:00  Normal\n",
       "1  MAC003718  01/01/2013 00:30  0.221  01/01/2013 00:30  Normal\n",
       "2  MAC003718  01/01/2013 01:00  0.544  01/01/2013 01:00  Normal\n",
       "3  MAC003718  01/01/2013 01:30  0.058  01/01/2013 01:30  Normal\n",
       "4  MAC003718  01/01/2013 02:00  0.058  01/01/2013 02:00  Normal"
      ]
     },
     "execution_count": 8,
     "metadata": {},
     "output_type": "execute_result"
    }
   ],
   "source": [
    "# merge with tarriff on DateTime\n",
    "merged_df2013 = sh_df2013.merge(tarriff_df, left_on='DateTime', right_on='TariffDateTime')\n",
    "\n",
    "# rename columns\n",
    "merged_df2013.columns = ['LCLid', 'DateTime', 'KWH/hh', 'TarriffDateTime', 'Tarriff']\n",
    "merged_df2013.head()"
   ]
  },
  {
   "cell_type": "code",
   "execution_count": 9,
   "metadata": {},
   "outputs": [],
   "source": [
    "# convert kwh/hh into numeric types\n",
    "merged_df2013['KWH/hh']=pd.to_numeric(merged_df2013['KWH/hh'])"
   ]
  },
  {
   "cell_type": "markdown",
   "metadata": {},
   "source": [
    "There are two sample sets, one with variable pricing, Dynamic Time of Use (DToU) with the following tarriffs:\n",
    "-  High: 67.20 p/kwH\n",
    "-  Normal: 11.76 p/kwH\n",
    "-  Low: 3.99 p/kwH\n",
    "Otherwise for a fixed cost:\n",
    "-  Cost: 14.228 p/kwH"
   ]
  },
  {
   "cell_type": "code",
   "execution_count": 10,
   "metadata": {},
   "outputs": [],
   "source": [
    "# sns.lineplot(x=\"DateTime\", y=\"KWH/hh\",data=merged_df2013)"
   ]
  },
  {
   "cell_type": "markdown",
   "metadata": {},
   "source": [
    "#### Gridwatch Data now.."
   ]
  },
  {
   "cell_type": "code",
   "execution_count": 11,
   "metadata": {},
   "outputs": [
    {
     "data": {
      "text/html": [
       "<div>\n",
       "<style scoped>\n",
       "    .dataframe tbody tr th:only-of-type {\n",
       "        vertical-align: middle;\n",
       "    }\n",
       "\n",
       "    .dataframe tbody tr th {\n",
       "        vertical-align: top;\n",
       "    }\n",
       "\n",
       "    .dataframe thead th {\n",
       "        text-align: right;\n",
       "    }\n",
       "</style>\n",
       "<table border=\"1\" class=\"dataframe\">\n",
       "  <thead>\n",
       "    <tr style=\"text-align: right;\">\n",
       "      <th></th>\n",
       "      <th>id</th>\n",
       "      <th>timestamp</th>\n",
       "      <th>demand</th>\n",
       "      <th>frequency</th>\n",
       "    </tr>\n",
       "  </thead>\n",
       "  <tbody>\n",
       "    <tr>\n",
       "      <th>0</th>\n",
       "      <td>626359</td>\n",
       "      <td>2017-05-17 00:00:31</td>\n",
       "      <td>34971</td>\n",
       "      <td>50.026001</td>\n",
       "    </tr>\n",
       "    <tr>\n",
       "      <th>1</th>\n",
       "      <td>626360</td>\n",
       "      <td>2017-05-17 00:05:32</td>\n",
       "      <td>34971</td>\n",
       "      <td>50.026001</td>\n",
       "    </tr>\n",
       "    <tr>\n",
       "      <th>2</th>\n",
       "      <td>626361</td>\n",
       "      <td>2017-05-17 00:10:32</td>\n",
       "      <td>34971</td>\n",
       "      <td>50.026001</td>\n",
       "    </tr>\n",
       "    <tr>\n",
       "      <th>3</th>\n",
       "      <td>626362</td>\n",
       "      <td>2017-05-17 00:15:31</td>\n",
       "      <td>35026</td>\n",
       "      <td>50.026001</td>\n",
       "    </tr>\n",
       "    <tr>\n",
       "      <th>4</th>\n",
       "      <td>626363</td>\n",
       "      <td>2017-05-17 00:20:32</td>\n",
       "      <td>34716</td>\n",
       "      <td>50.026001</td>\n",
       "    </tr>\n",
       "  </tbody>\n",
       "</table>\n",
       "</div>"
      ],
      "text/plain": [
       "       id             timestamp   demand   frequency\n",
       "0  626359   2017-05-17 00:00:31    34971   50.026001\n",
       "1  626360   2017-05-17 00:05:32    34971   50.026001\n",
       "2  626361   2017-05-17 00:10:32    34971   50.026001\n",
       "3  626362   2017-05-17 00:15:31    35026   50.026001\n",
       "4  626363   2017-05-17 00:20:32    34716   50.026001"
      ]
     },
     "execution_count": 11,
     "metadata": {},
     "output_type": "execute_result"
    }
   ],
   "source": [
    "# import data\n",
    "gridwatch_df = import_data(\"gridwatch.csv\")\n",
    "gridwatch_df.head()"
   ]
  },
  {
   "cell_type": "code",
   "execution_count": 12,
   "metadata": {},
   "outputs": [
    {
     "data": {
      "text/html": [
       "<div>\n",
       "<style scoped>\n",
       "    .dataframe tbody tr th:only-of-type {\n",
       "        vertical-align: middle;\n",
       "    }\n",
       "\n",
       "    .dataframe tbody tr th {\n",
       "        vertical-align: top;\n",
       "    }\n",
       "\n",
       "    .dataframe thead th {\n",
       "        text-align: right;\n",
       "    }\n",
       "</style>\n",
       "<table border=\"1\" class=\"dataframe\">\n",
       "  <thead>\n",
       "    <tr style=\"text-align: right;\">\n",
       "      <th></th>\n",
       "      <th>id</th>\n",
       "      <th>timestamp</th>\n",
       "      <th>demand</th>\n",
       "      <th>frequency</th>\n",
       "    </tr>\n",
       "  </thead>\n",
       "  <tbody>\n",
       "    <tr>\n",
       "      <th>210077</th>\n",
       "      <td>836436</td>\n",
       "      <td>2019-05-16 23:35:33</td>\n",
       "      <td>22688</td>\n",
       "      <td>49.922001</td>\n",
       "    </tr>\n",
       "    <tr>\n",
       "      <th>210078</th>\n",
       "      <td>836437</td>\n",
       "      <td>2019-05-16 23:40:36</td>\n",
       "      <td>22657</td>\n",
       "      <td>49.967999</td>\n",
       "    </tr>\n",
       "    <tr>\n",
       "      <th>210079</th>\n",
       "      <td>836438</td>\n",
       "      <td>2019-05-16 23:45:36</td>\n",
       "      <td>22599</td>\n",
       "      <td>49.949001</td>\n",
       "    </tr>\n",
       "    <tr>\n",
       "      <th>210080</th>\n",
       "      <td>836439</td>\n",
       "      <td>2019-05-16 23:50:34</td>\n",
       "      <td>22532</td>\n",
       "      <td>50.035000</td>\n",
       "    </tr>\n",
       "    <tr>\n",
       "      <th>210081</th>\n",
       "      <td>836440</td>\n",
       "      <td>2019-05-16 23:55:34</td>\n",
       "      <td>22469</td>\n",
       "      <td>50.139000</td>\n",
       "    </tr>\n",
       "  </tbody>\n",
       "</table>\n",
       "</div>"
      ],
      "text/plain": [
       "            id             timestamp   demand   frequency\n",
       "210077  836436   2019-05-16 23:35:33    22688   49.922001\n",
       "210078  836437   2019-05-16 23:40:36    22657   49.967999\n",
       "210079  836438   2019-05-16 23:45:36    22599   49.949001\n",
       "210080  836439   2019-05-16 23:50:34    22532   50.035000\n",
       "210081  836440   2019-05-16 23:55:34    22469   50.139000"
      ]
     },
     "execution_count": 12,
     "metadata": {},
     "output_type": "execute_result"
    }
   ],
   "source": [
    "gridwatch_df.tail()"
   ]
  },
  {
   "cell_type": "code",
   "execution_count": 13,
   "metadata": {},
   "outputs": [
    {
     "data": {
      "text/plain": [
       "Index(['id', ' timestamp', ' demand', ' frequency'], dtype='object')"
      ]
     },
     "execution_count": 13,
     "metadata": {},
     "output_type": "execute_result"
    }
   ],
   "source": [
    "gridwatch_df.columns"
   ]
  },
  {
   "cell_type": "code",
   "execution_count": 14,
   "metadata": {},
   "outputs": [],
   "source": [
    "# turn strings into datetime\n",
    "gridwatch_df[' timestamp'] = pd.to_datetime(gridwatch_df.iloc[:,1], format='%Y-%m-%d %H:%M:%S')"
   ]
  },
  {
   "cell_type": "code",
   "execution_count": 15,
   "metadata": {},
   "outputs": [
    {
     "data": {
      "text/html": [
       "<div>\n",
       "<style scoped>\n",
       "    .dataframe tbody tr th:only-of-type {\n",
       "        vertical-align: middle;\n",
       "    }\n",
       "\n",
       "    .dataframe tbody tr th {\n",
       "        vertical-align: top;\n",
       "    }\n",
       "\n",
       "    .dataframe thead th {\n",
       "        text-align: right;\n",
       "    }\n",
       "</style>\n",
       "<table border=\"1\" class=\"dataframe\">\n",
       "  <thead>\n",
       "    <tr style=\"text-align: right;\">\n",
       "      <th></th>\n",
       "      <th>timestamp</th>\n",
       "      <th>demand</th>\n",
       "    </tr>\n",
       "  </thead>\n",
       "  <tbody>\n",
       "    <tr>\n",
       "      <th>0</th>\n",
       "      <td>2017-05-17 00:00:31</td>\n",
       "      <td>34971</td>\n",
       "    </tr>\n",
       "    <tr>\n",
       "      <th>1</th>\n",
       "      <td>2017-05-17 00:05:32</td>\n",
       "      <td>34971</td>\n",
       "    </tr>\n",
       "    <tr>\n",
       "      <th>2</th>\n",
       "      <td>2017-05-17 00:10:32</td>\n",
       "      <td>34971</td>\n",
       "    </tr>\n",
       "    <tr>\n",
       "      <th>3</th>\n",
       "      <td>2017-05-17 00:15:31</td>\n",
       "      <td>35026</td>\n",
       "    </tr>\n",
       "    <tr>\n",
       "      <th>4</th>\n",
       "      <td>2017-05-17 00:20:32</td>\n",
       "      <td>34716</td>\n",
       "    </tr>\n",
       "  </tbody>\n",
       "</table>\n",
       "</div>"
      ],
      "text/plain": [
       "            timestamp   demand\n",
       "0 2017-05-17 00:00:31    34971\n",
       "1 2017-05-17 00:05:32    34971\n",
       "2 2017-05-17 00:10:32    34971\n",
       "3 2017-05-17 00:15:31    35026\n",
       "4 2017-05-17 00:20:32    34716"
      ]
     },
     "execution_count": 15,
     "metadata": {},
     "output_type": "execute_result"
    }
   ],
   "source": [
    "# create series\n",
    "demand_series = gridwatch_df.iloc[:, 2]\n",
    "demand_series.index = gridwatch_df.iloc[:,1]\n",
    "\n",
    "demand_df = gridwatch_df.iloc[:,[1,2]]\n",
    "demand_df.head()"
   ]
  },
  {
   "cell_type": "code",
   "execution_count": 16,
   "metadata": {},
   "outputs": [
    {
     "name": "stderr",
     "output_type": "stream",
     "text": [
      "C:\\Users\\steve\\Anaconda3\\lib\\site-packages\\pandas\\plotting\\_converter.py:129: FutureWarning: Using an implicitly registered datetime converter for a matplotlib plotting method. The converter was registered by pandas on import. Future versions of pandas will require you to explicitly register matplotlib converters.\n",
      "\n",
      "To register the converters:\n",
      "\t>>> from pandas.plotting import register_matplotlib_converters\n",
      "\t>>> register_matplotlib_converters()\n",
      "  warnings.warn(msg, FutureWarning)\n"
     ]
    },
    {
     "data": {
      "image/png": "[encoded data removed]",
      "text/plain": [
       "<Figure size 1080x576 with 1 Axes>"
      ]
     },
     "metadata": {
      "needs_background": "light"
     },
     "output_type": "display_data"
    }
   ],
   "source": [
    "# plot this\n",
    "plt.figure(figsize=(15,8))\n",
    "plt.plot(demand_df[' timestamp'], demand_df[' demand'])\n",
    "plt.show()"
   ]
  },
  {
   "cell_type": "code",
   "execution_count": 17,
   "metadata": {},
   "outputs": [
    {
     "data": {
      "text/plain": [
       "210082"
      ]
     },
     "execution_count": 17,
     "metadata": {},
     "output_type": "execute_result"
    }
   ],
   "source": [
    "len(demand_series)"
   ]
  },
  {
   "cell_type": "code",
   "execution_count": 18,
   "metadata": {},
   "outputs": [],
   "source": [
    "# Creating train and test set \n",
    "# Index 10392 marks the end of October 2013 \n",
    "train_df = demand_df[0:170000] \n",
    "test_df = demand_df[170000:]"
   ]
  },
  {
   "cell_type": "code",
   "execution_count": 19,
   "metadata": {},
   "outputs": [
    {
     "data": {
      "image/png": "[encoded data removed]",
      "text/plain": [
       "<Figure size 1080x576 with 1 Axes>"
      ]
     },
     "metadata": {
      "needs_background": "light"
     },
     "output_type": "display_data"
    }
   ],
   "source": [
    "# plotting the actual data\n",
    "plt.figure(figsize=(15,8))\n",
    "plt.plot(train_df[' timestamp'], train_df[' demand'])\n",
    "plt.plot(test_df[' timestamp'], test_df[' demand'])\n",
    "plt.title('forecasting')\n",
    "plt.show()"
   ]
  },
  {
   "cell_type": "code",
   "execution_count": 24,
   "metadata": {},
   "outputs": [
    {
     "data": {
      "text/html": [
       "<div>\n",
       "<style scoped>\n",
       "    .dataframe tbody tr th:only-of-type {\n",
       "        vertical-align: middle;\n",
       "    }\n",
       "\n",
       "    .dataframe tbody tr th {\n",
       "        vertical-align: top;\n",
       "    }\n",
       "\n",
       "    .dataframe thead th {\n",
       "        text-align: right;\n",
       "    }\n",
       "</style>\n",
       "<table border=\"1\" class=\"dataframe\">\n",
       "  <thead>\n",
       "    <tr style=\"text-align: right;\">\n",
       "      <th></th>\n",
       "      <th>ds</th>\n",
       "      <th>y</th>\n",
       "    </tr>\n",
       "  </thead>\n",
       "  <tbody>\n",
       "    <tr>\n",
       "      <th>0</th>\n",
       "      <td>2017-05-17 00:00:31</td>\n",
       "      <td>34971</td>\n",
       "    </tr>\n",
       "    <tr>\n",
       "      <th>1</th>\n",
       "      <td>2017-05-17 00:05:32</td>\n",
       "      <td>34971</td>\n",
       "    </tr>\n",
       "    <tr>\n",
       "      <th>2</th>\n",
       "      <td>2017-05-17 00:10:32</td>\n",
       "      <td>34971</td>\n",
       "    </tr>\n",
       "    <tr>\n",
       "      <th>3</th>\n",
       "      <td>2017-05-17 00:15:31</td>\n",
       "      <td>35026</td>\n",
       "    </tr>\n",
       "    <tr>\n",
       "      <th>4</th>\n",
       "      <td>2017-05-17 00:20:32</td>\n",
       "      <td>34716</td>\n",
       "    </tr>\n",
       "  </tbody>\n",
       "</table>\n",
       "</div>"
      ],
      "text/plain": [
       "                   ds      y\n",
       "0 2017-05-17 00:00:31  34971\n",
       "1 2017-05-17 00:05:32  34971\n",
       "2 2017-05-17 00:10:32  34971\n",
       "3 2017-05-17 00:15:31  35026\n",
       "4 2017-05-17 00:20:32  34716"
      ]
     },
     "execution_count": 24,
     "metadata": {},
     "output_type": "execute_result"
    }
   ],
   "source": [
    "# try fbprophet\n",
    "from fbprophet import Prophet\n",
    "\n",
    "# change the labels\n",
    "demand_df = demand_df.rename(columns={' timestamp':'ds', ' demand':'y'})\n",
    "demand_df.head()"
   ]
  },
  {
   "cell_type": "code",
   "execution_count": null,
   "metadata": {},
   "outputs": [
    {
     "name": "stderr",
     "output_type": "stream",
     "text": [
      "INFO:fbprophet:Disabling yearly seasonality. Run prophet with yearly_seasonality=True to override this.\n"
     ]
    }
   ],
   "source": [
    "# create instance of prophet\n",
    "m = Prophet()\n",
    "m.fit(demand_df)\n",
    "\n",
    "# predict\n",
    "future = m.make_future_dataframe(periods=365)"
   ]
  },
  {
   "cell_type": "code",
   "execution_count": null,
   "metadata": {},
   "outputs": [],
   "source": []
  }
 ],
 "metadata": {
  "kernelspec": {
   "display_name": "Python 3",
   "language": "python",
   "name": "python3"
  },
  "language_info": {
   "codemirror_mode": {
    "name": "ipython",
    "version": 3
   },
   "file_extension": ".py",
   "mimetype": "text/x-python",
   "name": "python",
   "nbconvert_exporter": "python",
   "pygments_lexer": "ipython3",
   "version": "3.7.3"
  }
 },
 "nbformat": 4,
 "nbformat_minor": 2
}
